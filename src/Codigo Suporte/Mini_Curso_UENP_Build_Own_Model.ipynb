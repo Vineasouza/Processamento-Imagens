{
 "cells": [
  {
   "cell_type": "markdown",
   "metadata": {
    "id": "m1LU9VmmcX7v"
   },
   "source": [
    "\n",
    "**Exemplo 1 - Criação de uma própria rede neural convolucional**\n",
    "\n",
    "* Habilite a funcionalidade de GPU ou TPU na plataforma\n",
    "* Editar - Configurações de notebook - GPU ou TPU\n",
    "---\n",
    "\n"
   ]
  },
  {
   "cell_type": "markdown",
   "metadata": {
    "id": "BANnRCEDfOxV"
   },
   "source": [
    "# Importanto bibliotecas"
   ]
  },
  {
   "cell_type": "code",
   "execution_count": 43,
   "metadata": {
    "id": "ql3bJaRGcgtp"
   },
   "outputs": [],
   "source": [
    "import keras\n",
    "from tensorflow.keras import utils as np_utils\n",
    "from keras.datasets import mnist\n",
    "from keras.models import Sequential\n",
    "from keras.layers import Dense, Dropout, Flatten\n",
    "from keras.layers import Conv2D, MaxPooling2D, AveragePooling2D\n",
    "import numpy as np\n",
    "import pandas as pd\n",
    "from sklearn.metrics import classification_report, confusion_matrix\n",
    "import matplotlib.pyplot as plt\n",
    "import seaborn as sn"
   ]
  },
  {
   "cell_type": "markdown",
   "metadata": {
    "id": "qQDofXOLfkjU"
   },
   "source": [
    "# Configurando Hiperparametros\n",
    "\n",
    "**batch_size**: número de amostras que será carregado a cada execução\n",
    "\n",
    "**Num_classes**: número de classes a serem preditas no novo modelo, será a quantidade de neurônios da última camada\n",
    "\n",
    "**epochs**: quantidade de vezes a ser executado o algoritmo, uma *epoch* é quanto todo o conjunto de treino foi utilizado\n",
    "\n",
    "**lr**: *learning rate* ou taxa de otimização, valor de ajuste na indicação do gradiente\n",
    "\n",
    "---\n",
    "\n",
    "\n"
   ]
  },
  {
   "cell_type": "code",
   "execution_count": 44,
   "metadata": {
    "id": "K5G_nagCfpIy"
   },
   "outputs": [],
   "source": [
    "batch_size = 32 # Exemplos utilizados para um determinado processo\n",
    "num_classes = 10 # classe MNist possui 10 classes [0-9]\n",
    "epochs = 100\n",
    "lr = 0.001 #taxa de aprendizado ou otimização de erro\n",
    "img_rows, img_cols = 28, 28 #afirmando as dimensoes da imagem\n"
   ]
  },
  {
   "cell_type": "markdown",
   "metadata": {
    "id": "NjJo4Ok5ghRT"
   },
   "source": [
    "# Carregando dataset Mnist \n",
    "\n",
    "* Dataset para identificação de digitos feitos a mão\n",
    "---"
   ]
  },
  {
   "cell_type": "code",
   "execution_count": null,
   "metadata": {
    "id": "mY-yAsogMgd2"
   },
   "outputs": [],
   "source": []
  },
  {
   "cell_type": "code",
   "execution_count": 45,
   "metadata": {
    "colab": {
     "base_uri": "https://localhost:8080/"
    },
    "id": "Nj3lumm5gkW6",
    "outputId": "8d10b637-bbe8-417e-98cb-073433dbc6aa"
   },
   "outputs": [
    {
     "name": "stdout",
     "output_type": "stream",
     "text": [
      "Dimensoes: (60000, 28, 28, 1)\n",
      "60000 Exemplos de treino\n",
      "10000 Exemplos de teste\n",
      "(60000,)\n",
      "(60000, 10)\n"
     ]
    }
   ],
   "source": [
    "(x_train, y_train), (x_test, y_test) = mnist.load_data() #carregando a base MNist, esse método já traz divido em teste e treino\n",
    "\n",
    "x_train = x_train.reshape(60000,28,28, 1) #alteração das dimensoes do conjunto de treino\n",
    "x_test = x_test.reshape(10000,28,28, 1) #alteração das dimensoes do conjunto de test\n",
    "\n",
    "print('Dimensoes:', x_train.shape)\n",
    "print(x_train.shape[0], 'Exemplos de treino')\n",
    "print(x_test.shape[0], 'Exemplos de teste')\n",
    "\n",
    "print(y_train.shape)\n",
    "y_train = np_utils.to_categorical(y_train, num_classes) #categorização das imagens de treino\n",
    "y_test = np_utils.to_categorical(y_test, num_classes) #categorização das imagens de treino\n",
    "print(y_train.shape)"
   ]
  },
  {
   "cell_type": "markdown",
   "metadata": {
    "id": "SPjZZjPDgy1j"
   },
   "source": [
    "# Construção do Modelo\n",
    "\n",
    "Objeto Sequential é necessário devido a estrutura da rede em camadas, sendo assim possível adicionar camadas da forma desejada.\n",
    "\n",
    "* Conv2d(): Adiciona uma camada de convolução com 32 filtros de tamanho 3x3, onde as dimensões da imagem de entrada deve ser 28x28x1, mantendo a não linearidade com a função ReLu\n",
    "\n",
    "* MaxPooling2d(): faz o downsampling do mapa de características gerado pela camada de convolução anterior, utilizando um filtro 2x2\n",
    "\n",
    "* Flatten(): faz com que as caracteríticas geradas na camada de Pooling (2D) passem a ser um vetor 1D\n",
    "\n",
    "* Dense(): adiciona uma camada de neurônios totalmente conectados, o número de neurônios é 128, ativados a partir da função ReLu, pode também ser a ultima camada de neurônios, dessa forma é necessário que tenha o número de classes como quantidade de neurônios, ativados pela função softmax.\n",
    "\n",
    "* Dropout(): porcentagem de neurônios a ser desligada para otimização e acelerar a execução.\n",
    "\n",
    "---"
   ]
  },
  {
   "cell_type": "code",
   "execution_count": 46,
   "metadata": {
    "colab": {
     "base_uri": "https://localhost:8080/"
    },
    "id": "XtkeAAq3g1Y7",
    "outputId": "1fc7d34e-a5a0-47d4-ba21-8b965e770f28"
   },
   "outputs": [
    {
     "name": "stdout",
     "output_type": "stream",
     "text": [
      "Model: \"sequential_4\"\n",
      "_________________________________________________________________\n",
      "Layer (type)                 Output Shape              Param #   \n",
      "=================================================================\n",
      "conv2d_4 (Conv2D)            (None, 26, 26, 32)        320       \n",
      "_________________________________________________________________\n",
      "max_pooling2d_4 (MaxPooling2 (None, 13, 13, 32)        0         \n",
      "_________________________________________________________________\n",
      "flatten_4 (Flatten)          (None, 5408)              0         \n",
      "_________________________________________________________________\n",
      "dense_8 (Dense)              (None, 128)               692352    \n",
      "_________________________________________________________________\n",
      "dropout_4 (Dropout)          (None, 128)               0         \n",
      "_________________________________________________________________\n",
      "dense_9 (Dense)              (None, 10)                1290      \n",
      "=================================================================\n",
      "Total params: 693,962\n",
      "Trainable params: 693,962\n",
      "Non-trainable params: 0\n",
      "_________________________________________________________________\n"
     ]
    }
   ],
   "source": [
    "model = Sequential()\n",
    "model.add(Conv2D(32, kernel_size=(3, 3), activation='relu', input_shape=(28,28, 1)))\n",
    "model.add(MaxPooling2D(pool_size=(2, 2)))\n",
    "model.add(Flatten())\n",
    "model.add(Dense(128, activation='relu'))\n",
    "model.add(Dropout(0.5))\n",
    "model.add(Dense(10, activation='softmax'))\n",
    "model.summary()"
   ]
  },
  {
   "cell_type": "markdown",
   "metadata": {
    "id": "XGVGqn03is_d"
   },
   "source": [
    "# Treinando o modelo\n",
    "---"
   ]
  },
  {
   "cell_type": "code",
   "execution_count": 71,
   "metadata": {},
   "outputs": [
    {
     "name": "stdout",
     "output_type": "stream",
     "text": [
      "<class 'keras.optimizer_v2.adam.Adam'>\n"
     ]
    }
   ],
   "source": [
    "print(keras.optimizers.adam_v2.Adam)"
   ]
  },
  {
   "cell_type": "code",
   "execution_count": 72,
   "metadata": {
    "colab": {
     "base_uri": "https://localhost:8080/"
    },
    "id": "C7kBRI5Titpq",
    "outputId": "c2f229ad-dcee-453f-aa72-15d18088487b"
   },
   "outputs": [
    {
     "name": "stdout",
     "output_type": "stream",
     "text": [
      "Epoch 1/100\n",
      "WARNING:tensorflow:AutoGraph could not transform <bound method Dense.call of <keras.layers.core.Dense object at 0x0000027D75857280>> and will run it as-is.\n",
      "Please report this to the TensorFlow team. When filing the bug, set the verbosity to 10 (on Linux, `export AUTOGRAPH_VERBOSITY=10`) and attach the full output.\n",
      "Cause: invalid syntax (tmpog_pkvu2.py, line 48)\n",
      "To silence this warning, decorate the function with @tf.autograph.experimental.do_not_convert\n",
      "WARNING: AutoGraph could not transform <bound method Dense.call of <keras.layers.core.Dense object at 0x0000027D75857280>> and will run it as-is.\n",
      "Please report this to the TensorFlow team. When filing the bug, set the verbosity to 10 (on Linux, `export AUTOGRAPH_VERBOSITY=10`) and attach the full output.\n",
      "Cause: invalid syntax (tmpog_pkvu2.py, line 48)\n",
      "To silence this warning, decorate the function with @tf.autograph.experimental.do_not_convert\n",
      "10/10 [==============================] - 18s 196ms/step - loss: 41.8668 - accuracy: 0.1847 - val_loss: 4.8881 - val_accuracy: 0.5691\n",
      "Epoch 2/100\n",
      "10/10 [==============================] - 1s 138ms/step - loss: 6.1669 - accuracy: 0.3775 - val_loss: 1.4812 - val_accuracy: 0.5714\n",
      "Epoch 3/100\n",
      "10/10 [==============================] - 1s 147ms/step - loss: 2.0540 - accuracy: 0.3755 - val_loss: 1.3116 - val_accuracy: 0.5694\n",
      "Epoch 4/100\n",
      "10/10 [==============================] - 1s 138ms/step - loss: 1.9725 - accuracy: 0.3888 - val_loss: 1.2630 - val_accuracy: 0.6008\n",
      "Epoch 5/100\n",
      "10/10 [==============================] - 1s 142ms/step - loss: 1.7107 - accuracy: 0.4677 - val_loss: 1.2062 - val_accuracy: 0.6177\n",
      "Epoch 6/100\n",
      "10/10 [==============================] - 1s 152ms/step - loss: 1.7019 - accuracy: 0.4423 - val_loss: 1.1115 - val_accuracy: 0.6830\n",
      "Epoch 7/100\n",
      "10/10 [==============================] - 1s 147ms/step - loss: 1.6604 - accuracy: 0.4344 - val_loss: 1.0748 - val_accuracy: 0.6733\n",
      "Epoch 8/100\n",
      "10/10 [==============================] - 1s 151ms/step - loss: 1.4503 - accuracy: 0.5325 - val_loss: 1.0684 - val_accuracy: 0.7090\n",
      "Epoch 9/100\n",
      "10/10 [==============================] - 1s 145ms/step - loss: 1.4412 - accuracy: 0.5438 - val_loss: 1.0785 - val_accuracy: 0.6997\n",
      "Epoch 10/100\n",
      "10/10 [==============================] - 1s 141ms/step - loss: 1.4812 - accuracy: 0.5088 - val_loss: 0.9402 - val_accuracy: 0.7182\n",
      "Epoch 11/100\n",
      "10/10 [==============================] - 1s 141ms/step - loss: 1.2544 - accuracy: 0.5772 - val_loss: 0.8918 - val_accuracy: 0.7470\n",
      "Epoch 12/100\n",
      "10/10 [==============================] - 1s 146ms/step - loss: 1.2347 - accuracy: 0.5802 - val_loss: 0.9026 - val_accuracy: 0.7501\n",
      "Epoch 13/100\n",
      "10/10 [==============================] - 1s 153ms/step - loss: 1.4907 - accuracy: 0.6014 - val_loss: 0.9402 - val_accuracy: 0.7444\n",
      "Epoch 14/100\n",
      "10/10 [==============================] - 1s 144ms/step - loss: 1.4385 - accuracy: 0.5517 - val_loss: 0.9205 - val_accuracy: 0.7375\n",
      "Epoch 15/100\n",
      "10/10 [==============================] - 1s 142ms/step - loss: 1.1296 - accuracy: 0.5944 - val_loss: 0.8972 - val_accuracy: 0.7548\n",
      "Epoch 16/100\n",
      "10/10 [==============================] - 1s 141ms/step - loss: 1.3908 - accuracy: 0.5966 - val_loss: 0.7995 - val_accuracy: 0.7789\n",
      "Epoch 17/100\n",
      "10/10 [==============================] - 1s 156ms/step - loss: 1.2348 - accuracy: 0.6155 - val_loss: 0.8383 - val_accuracy: 0.7775\n",
      "Epoch 18/100\n",
      "10/10 [==============================] - 1s 140ms/step - loss: 1.4918 - accuracy: 0.5828 - val_loss: 0.7747 - val_accuracy: 0.7997\n",
      "Epoch 19/100\n",
      "10/10 [==============================] - 1s 140ms/step - loss: 1.1700 - accuracy: 0.6233 - val_loss: 0.7469 - val_accuracy: 0.8004\n",
      "Epoch 20/100\n",
      "10/10 [==============================] - 1s 152ms/step - loss: 1.2588 - accuracy: 0.5809 - val_loss: 0.7398 - val_accuracy: 0.8033\n",
      "Epoch 21/100\n",
      "10/10 [==============================] - 1s 142ms/step - loss: 1.2410 - accuracy: 0.6030 - val_loss: 0.7676 - val_accuracy: 0.7957\n",
      "Epoch 22/100\n",
      "10/10 [==============================] - 1s 139ms/step - loss: 1.2289 - accuracy: 0.5600 - val_loss: 0.7181 - val_accuracy: 0.8116\n",
      "Epoch 23/100\n",
      "10/10 [==============================] - 1s 140ms/step - loss: 1.5036 - accuracy: 0.5371 - val_loss: 0.6633 - val_accuracy: 0.8222\n",
      "Epoch 24/100\n",
      "10/10 [==============================] - 1s 140ms/step - loss: 1.3085 - accuracy: 0.6105 - val_loss: 0.6990 - val_accuracy: 0.8079\n",
      "Epoch 25/100\n",
      "10/10 [==============================] - 1s 137ms/step - loss: 1.0662 - accuracy: 0.6804 - val_loss: 0.6465 - val_accuracy: 0.8225\n",
      "Epoch 26/100\n",
      "10/10 [==============================] - 1s 140ms/step - loss: 1.1250 - accuracy: 0.6620 - val_loss: 0.6656 - val_accuracy: 0.8093\n",
      "Epoch 27/100\n",
      "10/10 [==============================] - 1s 138ms/step - loss: 1.0845 - accuracy: 0.6567 - val_loss: 0.6261 - val_accuracy: 0.8179\n",
      "Epoch 28/100\n",
      "10/10 [==============================] - 1s 141ms/step - loss: 0.8652 - accuracy: 0.6911 - val_loss: 0.5972 - val_accuracy: 0.8283\n",
      "Epoch 29/100\n",
      "10/10 [==============================] - 1s 138ms/step - loss: 1.0935 - accuracy: 0.6818 - val_loss: 0.5949 - val_accuracy: 0.8318\n",
      "Epoch 30/100\n",
      "10/10 [==============================] - 1s 141ms/step - loss: 1.0977 - accuracy: 0.6290 - val_loss: 0.6280 - val_accuracy: 0.8301\n",
      "Epoch 31/100\n",
      "10/10 [==============================] - 1s 138ms/step - loss: 1.1287 - accuracy: 0.6203 - val_loss: 0.5683 - val_accuracy: 0.8199\n",
      "Epoch 32/100\n",
      "10/10 [==============================] - 1s 138ms/step - loss: 1.2743 - accuracy: 0.5732 - val_loss: 0.5320 - val_accuracy: 0.8450\n",
      "Epoch 33/100\n",
      "10/10 [==============================] - 1s 139ms/step - loss: 1.0913 - accuracy: 0.6258 - val_loss: 0.5655 - val_accuracy: 0.8428\n",
      "Epoch 34/100\n",
      "10/10 [==============================] - 1s 137ms/step - loss: 1.0237 - accuracy: 0.6718 - val_loss: 0.5423 - val_accuracy: 0.8609\n",
      "Epoch 35/100\n",
      "10/10 [==============================] - 1s 139ms/step - loss: 1.1505 - accuracy: 0.6017 - val_loss: 0.5423 - val_accuracy: 0.8497\n",
      "Epoch 36/100\n",
      "10/10 [==============================] - 1s 140ms/step - loss: 1.0358 - accuracy: 0.6300 - val_loss: 0.5556 - val_accuracy: 0.8547\n",
      "Epoch 37/100\n",
      "10/10 [==============================] - 1s 140ms/step - loss: 0.8515 - accuracy: 0.7415 - val_loss: 0.5298 - val_accuracy: 0.8581\n",
      "Epoch 38/100\n",
      "10/10 [==============================] - 1s 136ms/step - loss: 0.8461 - accuracy: 0.7271 - val_loss: 0.5238 - val_accuracy: 0.8529\n",
      "Epoch 39/100\n",
      "10/10 [==============================] - 1s 137ms/step - loss: 0.9023 - accuracy: 0.7264 - val_loss: 0.5279 - val_accuracy: 0.8498\n",
      "Epoch 40/100\n",
      "10/10 [==============================] - 1s 137ms/step - loss: 0.7964 - accuracy: 0.7292 - val_loss: 0.5159 - val_accuracy: 0.8537\n",
      "Epoch 41/100\n",
      "10/10 [==============================] - 1s 142ms/step - loss: 1.0436 - accuracy: 0.6953 - val_loss: 0.4664 - val_accuracy: 0.8721\n",
      "Epoch 42/100\n",
      "10/10 [==============================] - 1s 139ms/step - loss: 0.9142 - accuracy: 0.7442 - val_loss: 0.4279 - val_accuracy: 0.8871\n",
      "Epoch 43/100\n",
      "10/10 [==============================] - 1s 139ms/step - loss: 0.8289 - accuracy: 0.7886 - val_loss: 0.4109 - val_accuracy: 0.8826\n",
      "Epoch 44/100\n",
      "10/10 [==============================] - 1s 139ms/step - loss: 0.9558 - accuracy: 0.6950 - val_loss: 0.4404 - val_accuracy: 0.8760\n",
      "Epoch 45/100\n",
      "10/10 [==============================] - 1s 135ms/step - loss: 0.7049 - accuracy: 0.7547 - val_loss: 0.4574 - val_accuracy: 0.8723\n",
      "Epoch 46/100\n",
      "10/10 [==============================] - 1s 135ms/step - loss: 0.8668 - accuracy: 0.7501 - val_loss: 0.4471 - val_accuracy: 0.8780\n",
      "Epoch 47/100\n",
      "10/10 [==============================] - 1s 135ms/step - loss: 0.9994 - accuracy: 0.7207 - val_loss: 0.4060 - val_accuracy: 0.8946\n",
      "Epoch 48/100\n",
      "10/10 [==============================] - 1s 137ms/step - loss: 0.7278 - accuracy: 0.7716 - val_loss: 0.4204 - val_accuracy: 0.8856\n",
      "Epoch 49/100\n",
      "10/10 [==============================] - 1s 141ms/step - loss: 0.6853 - accuracy: 0.7538 - val_loss: 0.4010 - val_accuracy: 0.8932\n",
      "Epoch 50/100\n",
      "10/10 [==============================] - 1s 137ms/step - loss: 0.7819 - accuracy: 0.7675 - val_loss: 0.4238 - val_accuracy: 0.8923\n",
      "Epoch 51/100\n"
     ]
    },
    {
     "name": "stdout",
     "output_type": "stream",
     "text": [
      "10/10 [==============================] - 1s 138ms/step - loss: 0.7553 - accuracy: 0.7968 - val_loss: 0.4484 - val_accuracy: 0.8816\n",
      "Epoch 52/100\n",
      "10/10 [==============================] - 1s 136ms/step - loss: 0.9210 - accuracy: 0.7317 - val_loss: 0.4215 - val_accuracy: 0.8885\n",
      "Epoch 53/100\n",
      "10/10 [==============================] - 1s 141ms/step - loss: 0.7842 - accuracy: 0.7663 - val_loss: 0.4073 - val_accuracy: 0.8949\n",
      "Epoch 54/100\n",
      "10/10 [==============================] - 1s 138ms/step - loss: 0.7642 - accuracy: 0.7343 - val_loss: 0.3824 - val_accuracy: 0.9012\n",
      "Epoch 55/100\n",
      "10/10 [==============================] - 1s 138ms/step - loss: 0.7839 - accuracy: 0.7471 - val_loss: 0.3545 - val_accuracy: 0.9067\n",
      "Epoch 56/100\n",
      "10/10 [==============================] - 1s 138ms/step - loss: 0.6035 - accuracy: 0.8408 - val_loss: 0.3442 - val_accuracy: 0.9126\n",
      "Epoch 57/100\n",
      "10/10 [==============================] - 1s 138ms/step - loss: 0.8875 - accuracy: 0.7281 - val_loss: 0.3540 - val_accuracy: 0.9057\n",
      "Epoch 58/100\n",
      "10/10 [==============================] - 1s 136ms/step - loss: 0.7647 - accuracy: 0.7952 - val_loss: 0.3446 - val_accuracy: 0.9152\n",
      "Epoch 59/100\n",
      "10/10 [==============================] - 1s 136ms/step - loss: 0.8068 - accuracy: 0.7305 - val_loss: 0.3684 - val_accuracy: 0.9036\n",
      "Epoch 60/100\n",
      "10/10 [==============================] - 1s 140ms/step - loss: 0.7919 - accuracy: 0.7754 - val_loss: 0.3613 - val_accuracy: 0.9002\n",
      "Epoch 61/100\n",
      "10/10 [==============================] - 1s 137ms/step - loss: 0.5820 - accuracy: 0.7754 - val_loss: 0.3342 - val_accuracy: 0.9116\n",
      "Epoch 62/100\n",
      "10/10 [==============================] - 1s 135ms/step - loss: 0.4531 - accuracy: 0.8722 - val_loss: 0.3515 - val_accuracy: 0.9135\n",
      "Epoch 63/100\n",
      "10/10 [==============================] - 1s 138ms/step - loss: 0.7901 - accuracy: 0.7789 - val_loss: 0.3496 - val_accuracy: 0.9144\n",
      "Epoch 64/100\n",
      "10/10 [==============================] - 1s 137ms/step - loss: 0.8058 - accuracy: 0.7786 - val_loss: 0.3141 - val_accuracy: 0.9223\n",
      "Epoch 65/100\n",
      "10/10 [==============================] - 1s 140ms/step - loss: 0.6580 - accuracy: 0.8069 - val_loss: 0.2960 - val_accuracy: 0.9216\n",
      "Epoch 66/100\n",
      "10/10 [==============================] - 1s 138ms/step - loss: 0.8456 - accuracy: 0.7540 - val_loss: 0.2940 - val_accuracy: 0.9180\n",
      "Epoch 67/100\n",
      "10/10 [==============================] - 1s 140ms/step - loss: 0.8216 - accuracy: 0.7753 - val_loss: 0.3220 - val_accuracy: 0.9149\n",
      "Epoch 68/100\n",
      "10/10 [==============================] - 1s 139ms/step - loss: 0.6675 - accuracy: 0.7904 - val_loss: 0.3108 - val_accuracy: 0.9184\n",
      "Epoch 69/100\n",
      "10/10 [==============================] - 1s 136ms/step - loss: 0.6846 - accuracy: 0.8277 - val_loss: 0.2984 - val_accuracy: 0.9219\n",
      "Epoch 70/100\n",
      "10/10 [==============================] - 1s 138ms/step - loss: 0.6381 - accuracy: 0.7985 - val_loss: 0.2893 - val_accuracy: 0.9255\n",
      "Epoch 71/100\n",
      "10/10 [==============================] - 1s 136ms/step - loss: 0.7163 - accuracy: 0.7692 - val_loss: 0.2740 - val_accuracy: 0.9271\n",
      "Epoch 72/100\n",
      "10/10 [==============================] - 1s 138ms/step - loss: 0.5844 - accuracy: 0.8137 - val_loss: 0.3041 - val_accuracy: 0.9190\n",
      "Epoch 73/100\n",
      "10/10 [==============================] - 1s 136ms/step - loss: 0.6475 - accuracy: 0.7637 - val_loss: 0.3004 - val_accuracy: 0.9216\n",
      "Epoch 74/100\n",
      "10/10 [==============================] - 1s 137ms/step - loss: 0.5344 - accuracy: 0.8178 - val_loss: 0.2751 - val_accuracy: 0.9262\n",
      "Epoch 75/100\n",
      "10/10 [==============================] - 1s 134ms/step - loss: 0.5407 - accuracy: 0.8060 - val_loss: 0.2601 - val_accuracy: 0.9301\n",
      "Epoch 76/100\n",
      "10/10 [==============================] - 1s 135ms/step - loss: 0.6257 - accuracy: 0.8152 - val_loss: 0.2415 - val_accuracy: 0.9366\n",
      "Epoch 77/100\n",
      "10/10 [==============================] - 1s 137ms/step - loss: 0.5596 - accuracy: 0.8418 - val_loss: 0.2504 - val_accuracy: 0.9328\n",
      "Epoch 78/100\n",
      "10/10 [==============================] - 1s 136ms/step - loss: 0.4674 - accuracy: 0.8339 - val_loss: 0.2518 - val_accuracy: 0.9341\n",
      "Epoch 79/100\n",
      "10/10 [==============================] - 1s 139ms/step - loss: 0.5370 - accuracy: 0.8511 - val_loss: 0.2507 - val_accuracy: 0.9349\n",
      "Epoch 80/100\n",
      "10/10 [==============================] - 1s 138ms/step - loss: 0.5208 - accuracy: 0.8463 - val_loss: 0.2491 - val_accuracy: 0.9354\n",
      "Epoch 81/100\n",
      "10/10 [==============================] - 1s 138ms/step - loss: 0.5956 - accuracy: 0.8328 - val_loss: 0.2329 - val_accuracy: 0.9402\n",
      "Epoch 82/100\n",
      "10/10 [==============================] - 1s 136ms/step - loss: 0.5869 - accuracy: 0.8230 - val_loss: 0.2368 - val_accuracy: 0.9406\n",
      "Epoch 83/100\n",
      "10/10 [==============================] - 1s 137ms/step - loss: 0.5882 - accuracy: 0.8548 - val_loss: 0.2259 - val_accuracy: 0.9408\n",
      "Epoch 84/100\n",
      "10/10 [==============================] - 1s 146ms/step - loss: 0.5745 - accuracy: 0.8463 - val_loss: 0.2220 - val_accuracy: 0.9437\n",
      "Epoch 85/100\n",
      "10/10 [==============================] - 1s 138ms/step - loss: 0.4333 - accuracy: 0.8607 - val_loss: 0.2319 - val_accuracy: 0.9400\n",
      "Epoch 86/100\n",
      "10/10 [==============================] - 1s 139ms/step - loss: 0.4845 - accuracy: 0.8467 - val_loss: 0.2434 - val_accuracy: 0.9361\n",
      "Epoch 87/100\n",
      "10/10 [==============================] - 1s 139ms/step - loss: 0.4798 - accuracy: 0.8484 - val_loss: 0.2369 - val_accuracy: 0.9380\n",
      "Epoch 88/100\n",
      "10/10 [==============================] - 1s 138ms/step - loss: 0.5985 - accuracy: 0.8235 - val_loss: 0.2155 - val_accuracy: 0.9447\n",
      "Epoch 89/100\n",
      "10/10 [==============================] - 1s 137ms/step - loss: 0.4252 - accuracy: 0.8616 - val_loss: 0.2280 - val_accuracy: 0.9441\n",
      "Epoch 90/100\n",
      "10/10 [==============================] - 1s 136ms/step - loss: 0.5526 - accuracy: 0.8211 - val_loss: 0.2319 - val_accuracy: 0.9449\n",
      "Epoch 91/100\n",
      "10/10 [==============================] - 1s 139ms/step - loss: 0.5319 - accuracy: 0.8412 - val_loss: 0.2509 - val_accuracy: 0.9395\n",
      "Epoch 92/100\n",
      "10/10 [==============================] - 1s 140ms/step - loss: 0.5278 - accuracy: 0.8204 - val_loss: 0.2457 - val_accuracy: 0.9408\n",
      "Epoch 93/100\n",
      "10/10 [==============================] - 1s 138ms/step - loss: 0.6329 - accuracy: 0.7825 - val_loss: 0.2258 - val_accuracy: 0.9449\n",
      "Epoch 94/100\n",
      "10/10 [==============================] - 1s 138ms/step - loss: 0.4867 - accuracy: 0.8426 - val_loss: 0.2162 - val_accuracy: 0.9455\n",
      "Epoch 95/100\n",
      "10/10 [==============================] - 1s 139ms/step - loss: 0.4325 - accuracy: 0.8732 - val_loss: 0.2199 - val_accuracy: 0.9450\n",
      "Epoch 96/100\n",
      "10/10 [==============================] - 1s 138ms/step - loss: 0.8220 - accuracy: 0.8159 - val_loss: 0.2223 - val_accuracy: 0.9436\n",
      "Epoch 97/100\n",
      "10/10 [==============================] - 1s 138ms/step - loss: 0.4277 - accuracy: 0.8468 - val_loss: 0.2187 - val_accuracy: 0.9443\n",
      "Epoch 98/100\n",
      "10/10 [==============================] - 1s 139ms/step - loss: 0.8541 - accuracy: 0.7950 - val_loss: 0.2110 - val_accuracy: 0.9450\n",
      "Epoch 99/100\n",
      "10/10 [==============================] - 1s 139ms/step - loss: 0.6694 - accuracy: 0.8087 - val_loss: 0.2145 - val_accuracy: 0.9457\n",
      "Epoch 100/100\n",
      "10/10 [==============================] - 1s 138ms/step - loss: 0.4277 - accuracy: 0.8721 - val_loss: 0.1940 - val_accuracy: 0.9493\n"
     ]
    }
   ],
   "source": [
    "lr = keras.optimizers.adam_v2.Adam(learning_rate=0.001)\n",
    "\n",
    "model.compile(optimizer=lr, loss='categorical_crossentropy', metrics=['accuracy'])\n",
    "\n",
    "history = model.fit(x_train, y_train, steps_per_epoch=10, batch_size=batch_size, epochs=epochs, validation_data=(x_test, y_test), verbose=1)"
   ]
  },
  {
   "cell_type": "markdown",
   "metadata": {
    "id": "L7OBDip6i2E6"
   },
   "source": [
    "# Avaliando o comportamento do Modelo criado\n",
    "---"
   ]
  },
  {
   "cell_type": "code",
   "execution_count": 73,
   "metadata": {
    "colab": {
     "base_uri": "https://localhost:8080/"
    },
    "id": "92wJpqMDi5tq",
    "outputId": "b82c3be8-dad0-4a1a-9360-2dbd0f71e97c"
   },
   "outputs": [
    {
     "name": "stdout",
     "output_type": "stream",
     "text": [
      "Train: 0.946, Test: 0.949\n"
     ]
    }
   ],
   "source": [
    "loss_train, train_acc = model.evaluate(x_train, y_train, verbose=0)\n",
    "loss_test, test_acc = model.evaluate(x_test, y_test, verbose=0)\n",
    "print('Train: %.3f, Test: %.3f' % (train_acc, test_acc))"
   ]
  },
  {
   "cell_type": "markdown",
   "metadata": {
    "id": "Opo7ABEni-ys"
   },
   "source": [
    "# Comportamento do modelo a cada epoch\n",
    "---"
   ]
  },
  {
   "cell_type": "code",
   "execution_count": 74,
   "metadata": {
    "colab": {
     "base_uri": "https://localhost:8080/",
     "height": 579
    },
    "id": "aC9DPibhjDLk",
    "outputId": "543ef864-f5cc-4b49-9a7a-61fbd3df2588"
   },
   "outputs": [
    {
     "data": {
      "image/png": "[encoded data removed]",
      "text/plain": [
       "<Figure size 432x288 with 1 Axes>"
      ]
     },
     "metadata": {
      "needs_background": "light"
     },
     "output_type": "display_data"
    },
    {
     "name": "stdout",
     "output_type": "stream",
     "text": [
      "\n",
      "\n"
     ]
    },
    {
     "data": {
      "image/png": "[encoded data removed]",
      "text/plain": [
       "<Figure size 432x288 with 1 Axes>"
      ]
     },
     "metadata": {
      "needs_background": "light"
     },
     "output_type": "display_data"
    }
   ],
   "source": [
    "plt.title('Loss')\n",
    "plt.plot(history.history['loss'], label='train')\n",
    "plt.plot(history.history['val_loss'], label='test')\n",
    "plt.legend()\n",
    "plt.show()\n",
    "# Criando graficos para visualização dos resultados\n",
    "print()\n",
    "print()\n",
    "plt.title('Accuracy')\n",
    "plt.plot(history.history['accuracy'], label='train')\n",
    "plt.plot(history.history['val_accuracy'], label='test')\n",
    "plt.legend()\n",
    "plt.show()"
   ]
  },
  {
   "cell_type": "markdown",
   "metadata": {
    "id": "S-wXYEABjGFj"
   },
   "source": [
    "# Matriz de confusão e acurácia por classes\n",
    "---"
   ]
  },
  {
   "cell_type": "code",
   "execution_count": 75,
   "metadata": {
    "colab": {
     "base_uri": "https://localhost:8080/",
     "height": 768
    },
    "id": "329kwHDwjK9T",
    "outputId": "c0dfc9c7-e72a-4013-bc33-bd7c718f93bd"
   },
   "outputs": [
    {
     "name": "stdout",
     "output_type": "stream",
     "text": [
      "----------------CLASSIFICATION--------------\n",
      "              precision    recall  f1-score   support\n",
      "\n",
      "           0       0.70      0.99      0.82       980\n",
      "           1       0.99      0.98      0.99      1135\n",
      "           2       0.97      0.91      0.94      1032\n",
      "           3       0.97      0.90      0.93      1010\n",
      "           4       0.95      0.97      0.96       982\n",
      "           5       0.95      0.93      0.94       892\n",
      "           6       0.97      0.97      0.97       958\n",
      "           7       0.97      0.93      0.95      1028\n",
      "           8       0.97      0.83      0.90       974\n",
      "           9       0.97      0.88      0.93      1009\n",
      "\n",
      "    accuracy                           0.93     10000\n",
      "   macro avg       0.94      0.93      0.93     10000\n",
      "weighted avg       0.94      0.93      0.93     10000\n",
      "\n",
      "----------------Matrix de Confusão--------------\n"
     ]
    },
    {
     "data": {
      "text/plain": [
       "<AxesSubplot:>"
      ]
     },
     "execution_count": 75,
     "metadata": {},
     "output_type": "execute_result"
    },
    {
     "data": {
      "image/png": "[encoded data removed]",
      "text/plain": [
       "<Figure size 720x504 with 2 Axes>"
      ]
     },
     "metadata": {
      "needs_background": "light"
     },
     "output_type": "display_data"
    }
   ],
   "source": [
    "predictions = model.predict(x_test)\n",
    "y_pred = (predictions > 0.5)\n",
    "classification = classification_report(y_test.argmax(axis=1), y_pred.argmax(axis=1))\n",
    "print('----------------CLASSIFICATION--------------')\n",
    "print(classification)\n",
    "print('----------------Matrix de Confusão--------------')\n",
    "matrix = confusion_matrix(y_test.argmax(axis=1), y_pred.argmax(axis=1))\n",
    "df_cm = pd.DataFrame(matrix, index = [i for i in range(10)],\n",
    "                  columns = [i for i in range(10)])\n",
    "plt.figure(figsize = (10,7))\n",
    "sn.heatmap(df_cm, annot=True, linewidths=5.0)"
   ]
  }
 ],
 "metadata": {
  "accelerator": "GPU",
  "colab": {
   "collapsed_sections": [],
   "name": "Mini Curso UENP -  Build Own Model.ipynb",
   "provenance": []
  },
  "kernelspec": {
   "display_name": "Python 3",
   "language": "python",
   "name": "python3"
  },
  "language_info": {
   "codemirror_mode": {
    "name": "ipython",
    "version": 3
   },
   "file_extension": ".py",
   "mimetype": "text/x-python",
   "name": "python",
   "nbconvert_exporter": "python",
   "pygments_lexer": "ipython3",
   "version": "3.9.1"
  }
 },
 "nbformat": 4,
 "nbformat_minor": 1
}
