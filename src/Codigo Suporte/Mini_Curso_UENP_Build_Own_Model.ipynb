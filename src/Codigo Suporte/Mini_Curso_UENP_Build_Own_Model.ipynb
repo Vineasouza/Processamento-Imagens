{
 "cells": [
  {
   "cell_type": "markdown",
   "metadata": {
    "id": "m1LU9VmmcX7v"
   },
   "source": [
    "\n",
    "**Exemplo 1 - Criação de uma própria rede neural convolucional**\n",
    "\n",
    "* Habilite a funcionalidade de GPU ou TPU na plataforma\n",
    "* Editar - Configurações de notebook - GPU ou TPU\n",
    "---\n",
    "\n"
   ]
  },
  {
   "cell_type": "markdown",
   "metadata": {
    "id": "BANnRCEDfOxV"
   },
   "source": [
    "# Importanto bibliotecas"
   ]
  },
  {
   "cell_type": "code",
   "execution_count": 1,
   "metadata": {
    "id": "ql3bJaRGcgtp"
   },
   "outputs": [
    {
     "name": "stdout",
     "output_type": "stream",
     "text": [
      "INFO:tensorflow:Enabling eager execution\n",
      "INFO:tensorflow:Enabling v2 tensorshape\n",
      "INFO:tensorflow:Enabling resource variables\n",
      "INFO:tensorflow:Enabling tensor equality\n",
      "INFO:tensorflow:Enabling control flow v2\n"
     ]
    }
   ],
   "source": [
    "import keras\n",
    "from tensorflow.keras import utils as np_utils\n",
    "from keras.datasets import mnist\n",
    "from keras.models import Sequential\n",
    "from keras.layers import Dense, Dropout, Flatten\n",
    "from keras.layers import Conv2D, MaxPooling2D, AveragePooling2D\n",
    "import numpy as np\n",
    "import pandas as pd\n",
    "from sklearn.metrics import classification_report, confusion_matrix\n",
    "import matplotlib.pyplot as plt\n",
    "import seaborn as sn"
   ]
  },
  {
   "cell_type": "markdown",
   "metadata": {
    "id": "qQDofXOLfkjU"
   },
   "source": [
    "# Configurando Hiperparametros\n",
    "\n",
    "**batch_size**: número de amostras que será carregado a cada execução\n",
    "\n",
    "**Num_classes**: número de classes a serem preditas no novo modelo, será a quantidade de neurônios da última camada\n",
    "\n",
    "**epochs**: quantidade de vezes a ser executado o algoritmo, uma *epoch* é quanto todo o conjunto de treino foi utilizado\n",
    "\n",
    "**lr**: *learning rate* ou taxa de otimização, valor de ajuste na indicação do gradiente\n",
    "\n",
    "---\n",
    "\n",
    "\n"
   ]
  },
  {
   "cell_type": "code",
   "execution_count": 2,
   "metadata": {
    "id": "K5G_nagCfpIy"
   },
   "outputs": [],
   "source": [
    "batch_size = 32 # Exemplos utilizados para um determinado processo\n",
    "num_classes = 10 # classe MNist possui 10 classes [0-9]\n",
    "epochs = 100\n",
    "lr = 0.001 #taxa de aprendizado ou otimização de erro\n",
    "img_rows, img_cols = 28, 28 #afirmando as dimensoes da imagem\n"
   ]
  },
  {
   "cell_type": "markdown",
   "metadata": {
    "id": "NjJo4Ok5ghRT"
   },
   "source": [
    "# Carregando dataset Mnist \n",
    "\n",
    "* Dataset para identificação de digitos feitos a mão\n",
    "---"
   ]
  },
  {
   "cell_type": "code",
   "execution_count": 3,
   "metadata": {
    "colab": {
     "base_uri": "https://localhost:8080/"
    },
    "id": "Nj3lumm5gkW6",
    "outputId": "8d10b637-bbe8-417e-98cb-073433dbc6aa"
   },
   "outputs": [
    {
     "name": "stdout",
     "output_type": "stream",
     "text": [
      "Dimensoes: (60000, 28, 28, 1)\n",
      "60000 Exemplos de treino\n",
      "10000 Exemplos de teste\n",
      "(60000,)\n",
      "(60000, 10)\n"
     ]
    }
   ],
   "source": [
    "(x_train, y_train), (x_test, y_test) = mnist.load_data() #carregando a base MNist, esse método já traz divido em teste e treino\n",
    "\n",
    "x_train = x_train.reshape(60000,28,28, 1) #alteração das dimensoes do conjunto de treino\n",
    "x_test = x_test.reshape(10000,28,28, 1) #alteração das dimensoes do conjunto de test\n",
    "\n",
    "print('Dimensoes:', x_train.shape)\n",
    "print(x_train.shape[0], 'Exemplos de treino')\n",
    "print(x_test.shape[0], 'Exemplos de teste')\n",
    "\n",
    "print(y_train.shape)\n",
    "y_train = np_utils.to_categorical(y_train, num_classes) #categorização das imagens de treino\n",
    "y_test = np_utils.to_categorical(y_test, num_classes) #categorização das imagens de treino\n",
    "print(y_train.shape)"
   ]
  },
  {
   "cell_type": "markdown",
   "metadata": {
    "id": "SPjZZjPDgy1j"
   },
   "source": [
    "# Construção do Modelo\n",
    "\n",
    "Objeto Sequential é necessário devido a estrutura da rede em camadas, sendo assim possível adicionar camadas da forma desejada.\n",
    "\n",
    "* Conv2d(): Adiciona uma camada de convolução com 32 filtros de tamanho 3x3, onde as dimensões da imagem de entrada deve ser 28x28x1, mantendo a não linearidade com a função ReLu\n",
    "\n",
    "* MaxPooling2d(): faz o downsampling do mapa de características gerado pela camada de convolução anterior, utilizando um filtro 2x2\n",
    "\n",
    "* Flatten(): faz com que as caracteríticas geradas na camada de Pooling (2D) passem a ser um vetor 1D\n",
    "\n",
    "* Dense(): adiciona uma camada de neurônios totalmente conectados, o número de neurônios é 128, ativados a partir da função ReLu, pode também ser a ultima camada de neurônios, dessa forma é necessário que tenha o número de classes como quantidade de neurônios, ativados pela função softmax.\n",
    "\n",
    "* Dropout(): porcentagem de neurônios a ser desligada para otimização e acelerar a execução.\n",
    "\n",
    "---"
   ]
  },
  {
   "cell_type": "code",
   "execution_count": 4,
   "metadata": {
    "colab": {
     "base_uri": "https://localhost:8080/"
    },
    "id": "XtkeAAq3g1Y7",
    "outputId": "1fc7d34e-a5a0-47d4-ba21-8b965e770f28"
   },
   "outputs": [
    {
     "name": "stdout",
     "output_type": "stream",
     "text": [
      "Model: \"sequential\"\n",
      "_________________________________________________________________\n",
      "Layer (type)                 Output Shape              Param #   \n",
      "=================================================================\n",
      "conv2d (Conv2D)              (None, 26, 26, 32)        320       \n",
      "_________________________________________________________________\n",
      "max_pooling2d (MaxPooling2D) (None, 13, 13, 32)        0         \n",
      "_________________________________________________________________\n",
      "flatten (Flatten)            (None, 5408)              0         \n",
      "_________________________________________________________________\n",
      "dense (Dense)                (None, 128)               692352    \n",
      "_________________________________________________________________\n",
      "dropout (Dropout)            (None, 128)               0         \n",
      "_________________________________________________________________\n",
      "dense_1 (Dense)              (None, 10)                1290      \n",
      "=================================================================\n",
      "Total params: 693,962\n",
      "Trainable params: 693,962\n",
      "Non-trainable params: 0\n",
      "_________________________________________________________________\n"
     ]
    }
   ],
   "source": [
    "model = Sequential()\n",
    "model.add(Conv2D(32, kernel_size=(3, 3), activation='relu', input_shape=(28,28, 1)))\n",
    "model.add(MaxPooling2D(pool_size=(2, 2)))\n",
    "model.add(Flatten())\n",
    "model.add(Dense(128, activation='relu'))\n",
    "model.add(Dropout(0.5))\n",
    "model.add(Dense(10, activation='softmax'))\n",
    "model.summary()"
   ]
  },
  {
   "cell_type": "markdown",
   "metadata": {
    "id": "XGVGqn03is_d"
   },
   "source": [
    "# Treinando o modelo\n",
    "---"
   ]
  },
  {
   "cell_type": "code",
   "execution_count": 5,
   "metadata": {},
   "outputs": [
    {
     "name": "stdout",
     "output_type": "stream",
     "text": [
      "<class 'keras.optimizer_v2.adam.Adam'>\n"
     ]
    }
   ],
   "source": [
    "print(keras.optimizers.adam_v2.Adam)"
   ]
  },
  {
   "cell_type": "code",
   "execution_count": null,
   "metadata": {
    "colab": {
     "base_uri": "https://localhost:8080/"
    },
    "id": "C7kBRI5Titpq",
    "outputId": "c2f229ad-dcee-453f-aa72-15d18088487b"
   },
   "outputs": [
    {
     "name": "stdout",
     "output_type": "stream",
     "text": [
      "Epoch 1/100\n",
      "WARNING:tensorflow:AutoGraph could not transform <bound method Dense.call of <keras.layers.core.Dense object at 0x00000274D9CA6910>> and will run it as-is.\n",
      "Please report this to the TensorFlow team. When filing the bug, set the verbosity to 10 (on Linux, `export AUTOGRAPH_VERBOSITY=10`) and attach the full output.\n",
      "Cause: invalid syntax (tmpok63qbf0.py, line 48)\n",
      "To silence this warning, decorate the function with @tf.autograph.experimental.do_not_convert\n",
      "WARNING: AutoGraph could not transform <bound method Dense.call of <keras.layers.core.Dense object at 0x00000274D9CA6910>> and will run it as-is.\n",
      "Please report this to the TensorFlow team. When filing the bug, set the verbosity to 10 (on Linux, `export AUTOGRAPH_VERBOSITY=10`) and attach the full output.\n",
      "Cause: invalid syntax (tmpok63qbf0.py, line 48)\n",
      "To silence this warning, decorate the function with @tf.autograph.experimental.do_not_convert\n",
      "10/10 [==============================] - 23s 227ms/step - loss: 45.2132 - accuracy: 0.1931 - val_loss: 4.5191 - val_accuracy: 0.6569\n",
      "Epoch 2/100\n",
      "10/10 [==============================] - 1s 157ms/step - loss: 7.7315 - accuracy: 0.4872 - val_loss: 1.3080 - val_accuracy: 0.6864\n",
      "Epoch 3/100\n",
      "10/10 [==============================] - 1s 154ms/step - loss: 2.0748 - accuracy: 0.3512 - val_loss: 1.3433 - val_accuracy: 0.5564\n",
      "Epoch 4/100\n",
      "10/10 [==============================] - 1s 164ms/step - loss: 1.6890 - accuracy: 0.4487 - val_loss: 1.3406 - val_accuracy: 0.5478\n",
      "Epoch 5/100\n",
      "10/10 [==============================] - 1s 156ms/step - loss: 1.7214 - accuracy: 0.4047 - val_loss: 1.2693 - val_accuracy: 0.5837\n",
      "Epoch 6/100\n",
      "10/10 [==============================] - 1s 154ms/step - loss: 1.6857 - accuracy: 0.4526 - val_loss: 1.1324 - val_accuracy: 0.6465\n",
      "Epoch 7/100\n",
      "10/10 [==============================] - 1s 154ms/step - loss: 1.4916 - accuracy: 0.5098 - val_loss: 0.9797 - val_accuracy: 0.7094\n",
      "Epoch 8/100\n",
      "10/10 [==============================] - 1s 154ms/step - loss: 1.3406 - accuracy: 0.5036 - val_loss: 0.9996 - val_accuracy: 0.7493\n",
      "Epoch 9/100\n",
      "10/10 [==============================] - 2s 178ms/step - loss: 1.9344 - accuracy: 0.5135 - val_loss: 0.9643 - val_accuracy: 0.7211\n",
      "Epoch 10/100\n",
      "10/10 [==============================] - 1s 161ms/step - loss: 1.6629 - accuracy: 0.4995 - val_loss: 0.9618 - val_accuracy: 0.7254\n",
      "Epoch 11/100\n",
      "10/10 [==============================] - 1s 156ms/step - loss: 1.5490 - accuracy: 0.5599 - val_loss: 0.9995 - val_accuracy: 0.7065\n",
      "Epoch 12/100\n",
      "10/10 [==============================] - 1s 163ms/step - loss: 1.3935 - accuracy: 0.5257 - val_loss: 1.0035 - val_accuracy: 0.6870\n",
      "Epoch 13/100\n",
      "10/10 [==============================] - 1s 153ms/step - loss: 1.3484 - accuracy: 0.5425 - val_loss: 0.9964 - val_accuracy: 0.6950\n",
      "Epoch 14/100\n",
      "10/10 [==============================] - 1s 154ms/step - loss: 1.3008 - accuracy: 0.5808 - val_loss: 0.9319 - val_accuracy: 0.7315\n",
      "Epoch 15/100\n",
      "10/10 [==============================] - 1s 154ms/step - loss: 1.3497 - accuracy: 0.5681 - val_loss: 0.8217 - val_accuracy: 0.7689\n",
      "Epoch 16/100\n",
      "10/10 [==============================] - 1s 157ms/step - loss: 1.7006 - accuracy: 0.5512 - val_loss: 0.8441 - val_accuracy: 0.7531\n",
      "Epoch 17/100\n",
      "10/10 [==============================] - 1s 156ms/step - loss: 1.2125 - accuracy: 0.6008 - val_loss: 0.8545 - val_accuracy: 0.7536\n",
      "Epoch 18/100\n",
      "10/10 [==============================] - 2s 174ms/step - loss: 1.2713 - accuracy: 0.5307 - val_loss: 0.7573 - val_accuracy: 0.7939\n",
      "Epoch 19/100\n",
      "10/10 [==============================] - 1s 155ms/step - loss: 1.1449 - accuracy: 0.5687 - val_loss: 0.7137 - val_accuracy: 0.8254\n",
      "Epoch 20/100\n",
      "10/10 [==============================] - 1s 162ms/step - loss: 1.0773 - accuracy: 0.6219 - val_loss: 0.7554 - val_accuracy: 0.8155\n",
      "Epoch 21/100\n",
      "10/10 [==============================] - 2s 170ms/step - loss: 1.7531 - accuracy: 0.5795 - val_loss: 0.7388 - val_accuracy: 0.7987\n",
      "Epoch 22/100\n",
      "10/10 [==============================] - 1s 154ms/step - loss: 1.1688 - accuracy: 0.6699 - val_loss: 0.7152 - val_accuracy: 0.7877\n",
      "Epoch 23/100\n",
      "10/10 [==============================] - 1s 159ms/step - loss: 1.4232 - accuracy: 0.5489 - val_loss: 0.7267 - val_accuracy: 0.8070\n",
      "Epoch 24/100\n",
      "10/10 [==============================] - 1s 163ms/step - loss: 1.0372 - accuracy: 0.6907 - val_loss: 0.6362 - val_accuracy: 0.8270\n",
      "Epoch 25/100\n",
      "10/10 [==============================] - 1s 154ms/step - loss: 1.0098 - accuracy: 0.6725 - val_loss: 0.6232 - val_accuracy: 0.8365\n",
      "Epoch 26/100\n",
      "10/10 [==============================] - 1s 155ms/step - loss: 1.2252 - accuracy: 0.6089 - val_loss: 0.6930 - val_accuracy: 0.8027\n",
      "Epoch 27/100\n",
      "10/10 [==============================] - 1s 156ms/step - loss: 1.1801 - accuracy: 0.6753 - val_loss: 0.6460 - val_accuracy: 0.8291\n",
      "Epoch 28/100\n",
      "10/10 [==============================] - 1s 162ms/step - loss: 1.6571 - accuracy: 0.6583 - val_loss: 0.6430 - val_accuracy: 0.8229\n",
      "Epoch 29/100\n",
      "10/10 [==============================] - 1s 160ms/step - loss: 1.2083 - accuracy: 0.6217 - val_loss: 0.6321 - val_accuracy: 0.8370\n",
      "Epoch 30/100\n",
      "10/10 [==============================] - 1s 160ms/step - loss: 1.5650 - accuracy: 0.6546 - val_loss: 0.6815 - val_accuracy: 0.8141\n",
      "Epoch 31/100\n",
      "10/10 [==============================] - 1s 156ms/step - loss: 1.4643 - accuracy: 0.6297 - val_loss: 0.6734 - val_accuracy: 0.8241\n",
      "Epoch 32/100\n",
      "10/10 [==============================] - 2s 167ms/step - loss: 1.2994 - accuracy: 0.5592 - val_loss: 0.6009 - val_accuracy: 0.8488\n",
      "Epoch 33/100\n",
      "10/10 [==============================] - 1s 156ms/step - loss: 1.2363 - accuracy: 0.6684 - val_loss: 0.5353 - val_accuracy: 0.8630\n",
      "Epoch 34/100\n",
      "10/10 [==============================] - 2s 171ms/step - loss: 1.5208 - accuracy: 0.6270 - val_loss: 0.5266 - val_accuracy: 0.8628\n",
      "Epoch 35/100\n",
      "10/10 [==============================] - 2s 170ms/step - loss: 0.9837 - accuracy: 0.6461 - val_loss: 0.5918 - val_accuracy: 0.8528\n",
      "Epoch 36/100\n",
      "10/10 [==============================] - 2s 179ms/step - loss: 1.0548 - accuracy: 0.6381 - val_loss: 0.6313 - val_accuracy: 0.8350\n",
      "Epoch 37/100\n",
      "10/10 [==============================] - 2s 168ms/step - loss: 1.1313 - accuracy: 0.6811 - val_loss: 0.6575 - val_accuracy: 0.8264\n",
      "Epoch 38/100\n",
      "10/10 [==============================] - 2s 167ms/step - loss: 1.2838 - accuracy: 0.6694 - val_loss: 0.6467 - val_accuracy: 0.8405\n",
      "Epoch 39/100\n",
      "10/10 [==============================] - 1s 154ms/step - loss: 1.1543 - accuracy: 0.6579 - val_loss: 0.5320 - val_accuracy: 0.8685\n",
      "Epoch 40/100\n",
      "10/10 [==============================] - 1s 161ms/step - loss: 1.0382 - accuracy: 0.6838 - val_loss: 0.5579 - val_accuracy: 0.8604\n",
      "Epoch 41/100\n",
      "10/10 [==============================] - 1s 154ms/step - loss: 1.1280 - accuracy: 0.7207 - val_loss: 0.4920 - val_accuracy: 0.8755\n",
      "Epoch 42/100\n",
      "10/10 [==============================] - 1s 153ms/step - loss: 1.0653 - accuracy: 0.6832 - val_loss: 0.4965 - val_accuracy: 0.8819\n",
      "Epoch 43/100\n",
      "10/10 [==============================] - 1s 156ms/step - loss: 0.8845 - accuracy: 0.7071 - val_loss: 0.5021 - val_accuracy: 0.8770\n",
      "Epoch 44/100\n",
      "10/10 [==============================] - 1s 156ms/step - loss: 1.2858 - accuracy: 0.7154 - val_loss: 0.5250 - val_accuracy: 0.8753\n",
      "Epoch 45/100\n",
      "10/10 [==============================] - 1s 156ms/step - loss: 1.0846 - accuracy: 0.7298 - val_loss: 0.5330 - val_accuracy: 0.8679\n",
      "Epoch 46/100\n",
      "10/10 [==============================] - 1s 157ms/step - loss: 1.2206 - accuracy: 0.6516 - val_loss: 0.5130 - val_accuracy: 0.8650\n",
      "Epoch 47/100\n",
      "10/10 [==============================] - 1s 157ms/step - loss: 1.0737 - accuracy: 0.7384 - val_loss: 0.4903 - val_accuracy: 0.8751\n",
      "Epoch 48/100\n",
      "10/10 [==============================] - 1s 158ms/step - loss: 0.7852 - accuracy: 0.7510 - val_loss: 0.4752 - val_accuracy: 0.8890\n",
      "Epoch 49/100\n",
      "10/10 [==============================] - 1s 158ms/step - loss: 0.9247 - accuracy: 0.7571 - val_loss: 0.4697 - val_accuracy: 0.8878\n",
      "Epoch 50/100\n",
      "10/10 [==============================] - 1s 156ms/step - loss: 1.0294 - accuracy: 0.7482 - val_loss: 0.4588 - val_accuracy: 0.8908\n",
      "Epoch 51/100\n"
     ]
    },
    {
     "name": "stdout",
     "output_type": "stream",
     "text": [
      "10/10 [==============================] - 2s 167ms/step - loss: 1.1826 - accuracy: 0.6925 - val_loss: 0.5236 - val_accuracy: 0.8844\n",
      "Epoch 52/100\n",
      "10/10 [==============================] - 1s 162ms/step - loss: 0.8699 - accuracy: 0.7498 - val_loss: 0.4923 - val_accuracy: 0.8881\n",
      "Epoch 53/100\n",
      "10/10 [==============================] - 1s 159ms/step - loss: 1.1743 - accuracy: 0.6698 - val_loss: 0.4408 - val_accuracy: 0.8908\n",
      "Epoch 54/100\n",
      "10/10 [==============================] - 2s 167ms/step - loss: 0.7680 - accuracy: 0.7722 - val_loss: 0.4415 - val_accuracy: 0.8872\n",
      "Epoch 55/100\n",
      "10/10 [==============================] - 1s 162ms/step - loss: 0.9418 - accuracy: 0.7061 - val_loss: 0.4031 - val_accuracy: 0.9014\n",
      "Epoch 56/100\n",
      "10/10 [==============================] - 2s 172ms/step - loss: 0.7231 - accuracy: 0.7999 - val_loss: 0.4116 - val_accuracy: 0.8968\n",
      "Epoch 57/100\n",
      "10/10 [==============================] - 1s 162ms/step - loss: 0.7215 - accuracy: 0.8020 - val_loss: 0.3756 - val_accuracy: 0.9038\n",
      "Epoch 58/100\n",
      "10/10 [==============================] - 1s 160ms/step - loss: 0.5568 - accuracy: 0.8559 - val_loss: 0.3602 - val_accuracy: 0.9129\n",
      "Epoch 59/100\n",
      "10/10 [==============================] - 1s 153ms/step - loss: 0.8186 - accuracy: 0.7399 - val_loss: 0.3584 - val_accuracy: 0.9075\n",
      "Epoch 60/100\n",
      "10/10 [==============================] - 1s 160ms/step - loss: 0.6792 - accuracy: 0.8002 - val_loss: 0.3959 - val_accuracy: 0.9029\n",
      "Epoch 61/100\n",
      "10/10 [==============================] - 1s 157ms/step - loss: 0.8389 - accuracy: 0.7335 - val_loss: 0.3762 - val_accuracy: 0.9119\n",
      "Epoch 62/100\n",
      "10/10 [==============================] - 2s 168ms/step - loss: 0.5628 - accuracy: 0.8320 - val_loss: 0.3686 - val_accuracy: 0.9075\n",
      "Epoch 63/100\n",
      "10/10 [==============================] - 2s 169ms/step - loss: 0.8287 - accuracy: 0.7618 - val_loss: 0.3578 - val_accuracy: 0.9111\n",
      "Epoch 64/100\n",
      "10/10 [==============================] - 1s 156ms/step - loss: 0.7262 - accuracy: 0.7640 - val_loss: 0.3656 - val_accuracy: 0.9081\n",
      "Epoch 65/100\n",
      "10/10 [==============================] - 2s 182ms/step - loss: 0.7720 - accuracy: 0.7418 - val_loss: 0.3524 - val_accuracy: 0.9107\n",
      "Epoch 66/100\n",
      "10/10 [==============================] - 2s 167ms/step - loss: 0.8548 - accuracy: 0.7430 - val_loss: 0.3527 - val_accuracy: 0.9130\n",
      "Epoch 67/100\n",
      "10/10 [==============================] - 1s 156ms/step - loss: 0.8632 - accuracy: 0.7649 - val_loss: 0.3681 - val_accuracy: 0.9087\n",
      "Epoch 68/100\n",
      "10/10 [==============================] - 1s 155ms/step - loss: 0.9983 - accuracy: 0.7059 - val_loss: 0.3719 - val_accuracy: 0.9043\n",
      "Epoch 69/100\n",
      "10/10 [==============================] - 2s 174ms/step - loss: 0.7010 - accuracy: 0.7340 - val_loss: 0.3650 - val_accuracy: 0.9067\n",
      "Epoch 70/100\n",
      "10/10 [==============================] - 1s 160ms/step - loss: 0.7308 - accuracy: 0.7783 - val_loss: 0.3237 - val_accuracy: 0.9191\n",
      "Epoch 71/100\n",
      "10/10 [==============================] - 2s 172ms/step - loss: 0.7086 - accuracy: 0.7789 - val_loss: 0.3088 - val_accuracy: 0.9205\n",
      "Epoch 72/100\n",
      "10/10 [==============================] - 2s 173ms/step - loss: 0.6081 - accuracy: 0.8008 - val_loss: 0.3032 - val_accuracy: 0.9241\n",
      "Epoch 73/100\n",
      "10/10 [==============================] - 2s 198ms/step - loss: 0.7184 - accuracy: 0.7798 - val_loss: 0.3185 - val_accuracy: 0.9198\n",
      "Epoch 74/100\n",
      "10/10 [==============================] - 2s 192ms/step - loss: 0.8091 - accuracy: 0.7590 - val_loss: 0.3167 - val_accuracy: 0.9222\n",
      "Epoch 75/100\n",
      "10/10 [==============================] - 2s 187ms/step - loss: 0.6796 - accuracy: 0.8044 - val_loss: 0.3284 - val_accuracy: 0.9211\n",
      "Epoch 76/100\n",
      "10/10 [==============================] - 2s 196ms/step - loss: 0.7860 - accuracy: 0.7716 - val_loss: 0.3006 - val_accuracy: 0.9246\n",
      "Epoch 77/100\n",
      "10/10 [==============================] - 2s 185ms/step - loss: 0.7351 - accuracy: 0.7973 - val_loss: 0.3023 - val_accuracy: 0.9224\n",
      "Epoch 78/100\n",
      "10/10 [==============================] - 2s 198ms/step - loss: 0.5650 - accuracy: 0.8306 - val_loss: 0.2929 - val_accuracy: 0.9277\n",
      "Epoch 79/100\n",
      "10/10 [==============================] - 2s 182ms/step - loss: 0.7218 - accuracy: 0.8129 - val_loss: 0.2682 - val_accuracy: 0.9348\n",
      "Epoch 80/100\n",
      "10/10 [==============================] - 2s 179ms/step - loss: 0.6459 - accuracy: 0.8259 - val_loss: 0.2743 - val_accuracy: 0.9326\n",
      "Epoch 81/100\n",
      "10/10 [==============================] - 2s 171ms/step - loss: 0.7143 - accuracy: 0.8067 - val_loss: 0.2734 - val_accuracy: 0.9316\n",
      "Epoch 82/100\n",
      " 9/10 [==========================>...] - ETA: 0s - loss: 0.5649 - accuracy: 0.8095"
     ]
    }
   ],
   "source": [
    "lr = keras.optimizers.adam_v2.Adam(learning_rate=0.001)\n",
    "\n",
    "model.compile(optimizer=lr, loss='categorical_crossentropy', metrics=['accuracy'])\n",
    "\n",
    "history = model.fit(x_train, y_train, steps_per_epoch=10, batch_size=batch_size, epochs=epochs, validation_data=(x_test, y_test), verbose=1)"
   ]
  },
  {
   "cell_type": "markdown",
   "metadata": {
    "id": "L7OBDip6i2E6"
   },
   "source": [
    "# Avaliando o comportamento do Modelo criado\n",
    "---"
   ]
  },
  {
   "cell_type": "code",
   "execution_count": null,
   "metadata": {
    "colab": {
     "base_uri": "https://localhost:8080/"
    },
    "id": "92wJpqMDi5tq",
    "outputId": "b82c3be8-dad0-4a1a-9360-2dbd0f71e97c"
   },
   "outputs": [],
   "source": [
    "loss_train, train_acc = model.evaluate(x_train, y_train, verbose=0)\n",
    "loss_test, test_acc = model.evaluate(x_test, y_test, verbose=0)\n",
    "print('Train: %.3f, Test: %.3f' % (train_acc, test_acc))"
   ]
  },
  {
   "cell_type": "markdown",
   "metadata": {
    "id": "Opo7ABEni-ys"
   },
   "source": [
    "# Comportamento do modelo a cada epoch\n",
    "---"
   ]
  },
  {
   "cell_type": "code",
   "execution_count": null,
   "metadata": {
    "colab": {
     "base_uri": "https://localhost:8080/",
     "height": 579
    },
    "id": "aC9DPibhjDLk",
    "outputId": "543ef864-f5cc-4b49-9a7a-61fbd3df2588"
   },
   "outputs": [],
   "source": [
    "plt.title('Loss')\n",
    "plt.plot(history.history['loss'], label='train')\n",
    "plt.plot(history.history['val_loss'], label='test')\n",
    "plt.legend()\n",
    "plt.show()\n",
    "# Criando graficos para visualização dos resultados\n",
    "print()\n",
    "print()\n",
    "plt.title('Accuracy')\n",
    "plt.plot(history.history['accuracy'], label='train')\n",
    "plt.plot(history.history['val_accuracy'], label='test')\n",
    "plt.legend()\n",
    "plt.show()"
   ]
  },
  {
   "cell_type": "markdown",
   "metadata": {
    "id": "S-wXYEABjGFj"
   },
   "source": [
    "# Matriz de confusão e acurácia por classes\n",
    "---"
   ]
  },
  {
   "cell_type": "code",
   "execution_count": null,
   "metadata": {
    "colab": {
     "base_uri": "https://localhost:8080/",
     "height": 768
    },
    "id": "329kwHDwjK9T",
    "outputId": "c0dfc9c7-e72a-4013-bc33-bd7c718f93bd"
   },
   "outputs": [],
   "source": [
    "predictions = model.predict(x_test)\n",
    "y_pred = (predictions > 0.5)\n",
    "classification = classification_report(y_test.argmax(axis=1), y_pred.argmax(axis=1))\n",
    "print('----------------CLASSIFICATION--------------')\n",
    "print(classification)\n",
    "print('----------------Matrix de Confusão--------------')\n",
    "matrix = confusion_matrix(y_test.argmax(axis=1), y_pred.argmax(axis=1))\n",
    "df_cm = pd.DataFrame(matrix, index = [i for i in range(10)],\n",
    "                  columns = [i for i in range(10)])\n",
    "plt.figure(figsize = (10,7))\n",
    "sn.heatmap(df_cm, annot=True, linewidths=5.0)"
   ]
  }
 ],
 "metadata": {
  "accelerator": "GPU",
  "colab": {
   "collapsed_sections": [],
   "name": "Mini Curso UENP -  Build Own Model.ipynb",
   "provenance": []
  },
  "kernelspec": {
   "display_name": "Python 3",
   "language": "python",
   "name": "python3"
  },
  "language_info": {
   "codemirror_mode": {
    "name": "ipython",
    "version": 3
   },
   "file_extension": ".py",
   "mimetype": "text/x-python",
   "name": "python",
   "nbconvert_exporter": "python",
   "pygments_lexer": "ipython3",
   "version": "3.9.1"
  }
 },
 "nbformat": 4,
 "nbformat_minor": 1
}
