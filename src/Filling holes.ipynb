{
 "cells": [
  {
   "cell_type": "markdown",
   "id": "phantom-balloon",
   "metadata": {},
   "source": [
    "## Filling holes in an image using OpenCV\n",
    "https://learnopencv.com/filling-holes-in-an-image-using-opencv-python-c/"
   ]
  },
  {
   "cell_type": "code",
   "execution_count": 1,
   "id": "pressing-progress",
   "metadata": {},
   "outputs": [],
   "source": [
    "import cv2\n",
    "import numpy as np;\n",
    "flags = [i for i in dir(cv2) if i.startswith('COLOR_')]"
   ]
  },
  {
   "cell_type": "code",
   "execution_count": 2,
   "id": "opposed-petroleum",
   "metadata": {},
   "outputs": [],
   "source": [
    "# Read image\n",
    "im_in = cv2.imread(\"nickel.jpg\", cv2.IMREAD_GRAYSCALE);\n",
    "cv2.imshow('image',im_in)\n",
    "cv2.waitKey(0)\n",
    "cv2.destroyAllWindows()"
   ]
  },
  {
   "cell_type": "code",
   "execution_count": 3,
   "id": "invisible-essence",
   "metadata": {},
   "outputs": [],
   "source": [
    "th, im_th = cv2.threshold(im_in, 220, 255, cv2.THRESH_BINARY_INV);"
   ]
  },
  {
   "cell_type": "code",
   "execution_count": 4,
   "id": "ancient-international",
   "metadata": {},
   "outputs": [],
   "source": [
    "im_floodfill = im_th.copy()"
   ]
  },
  {
   "cell_type": "code",
   "execution_count": 5,
   "id": "advisory-block",
   "metadata": {},
   "outputs": [],
   "source": [
    "h, w = im_th.shape[:2]\n",
    "mask = np.zeros((h+2, w+2), np.uint8)"
   ]
  },
  {
   "cell_type": "code",
   "execution_count": 6,
   "id": "municipal-taiwan",
   "metadata": {},
   "outputs": [],
   "source": [
    "cv2.floodFill(im_floodfill, mask, (0,0), 255);"
   ]
  },
  {
   "cell_type": "code",
   "execution_count": 7,
   "id": "convinced-recommendation",
   "metadata": {},
   "outputs": [],
   "source": [
    "im_floodfill_inv = cv2.bitwise_not(im_floodfill)"
   ]
  },
  {
   "cell_type": "code",
   "execution_count": 8,
   "id": "native-single",
   "metadata": {},
   "outputs": [],
   "source": [
    "im_out = im_th | im_floodfill_inv"
   ]
  },
  {
   "cell_type": "code",
   "execution_count": 9,
   "id": "neither-publication",
   "metadata": {},
   "outputs": [],
   "source": [
    "cv2.imshow(\"Thresholded Image\", im_th)\n",
    "\n",
    "cv2.imshow(\"Floodfilled Image\", im_floodfill)\n",
    "\n",
    "cv2.imshow(\"Inverted Floodfilled Image\", im_floodfill_inv)\n",
    "\n",
    "cv2.imshow(\"Foreground\", im_out)\n",
    "\n",
    "cv2.waitKey(0)\n",
    "\n",
    "cv2.destroyAllWindows()"
   ]
  }
 ],
 "metadata": {
  "kernelspec": {
   "display_name": "Python 3",
   "language": "python",
   "name": "python3"
  },
  "language_info": {
   "codemirror_mode": {
    "name": "ipython",
    "version": 3
   },
   "file_extension": ".py",
   "mimetype": "text/x-python",
   "name": "python",
   "nbconvert_exporter": "python",
   "pygments_lexer": "ipython3",
   "version": "3.9.1"
  }
 },
 "nbformat": 4,
 "nbformat_minor": 5
}
