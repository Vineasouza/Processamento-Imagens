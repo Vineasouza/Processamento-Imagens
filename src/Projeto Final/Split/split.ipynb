{
 "cells": [
  {
   "cell_type": "code",
   "execution_count": 1,
   "id": "ignored-tsunami",
   "metadata": {},
   "outputs": [],
   "source": [
    "import random\n",
    "import os\n",
    "from tqdm import tqdm\n",
    "import shutil\n",
    "import pathlib"
   ]
  },
  {
   "cell_type": "code",
   "execution_count": 2,
   "id": "fallen-fault",
   "metadata": {},
   "outputs": [],
   "source": [
    "data_dir = \"Database\"\n",
    "classes = [\"carcinoma_in_situ\", \"light_dysplastic\", \"moderate_dysplastic\", \"normal_columnar\", \"normal_intermediate\", \"normal_superficiel\", \"severe_dysplastic\"]\n",
    "output_dir = \"data_tt_g\"\n",
    "ratio = [0.8, 0.2]"
   ]
  },
  {
   "cell_type": "code",
   "execution_count": 3,
   "id": "integral-reservoir",
   "metadata": {},
   "outputs": [],
   "source": [
    "def split_folder(data_dir, output_dir, ratio):\n",
    "    # for each cell \n",
    "    for cell in classes:\n",
    "        cell_path = os.path.join(data_dir, cell)\n",
    "        files = os.listdir(cell_path)\n",
    "        files = [os.path.join(cell_path, f) for f in files if f.endswith('.bmp')]\n",
    "\n",
    "        # Split the images in 'train_signs' into 80% train and 20% val\n",
    "        # Make sure to always shuffle with a fixed seed so that the split is reproducible\n",
    "        random.seed(230)\n",
    "        files.sort()\n",
    "        random.shuffle(files)\n",
    "\n",
    "        # ratio for train, validation and test\n",
    "        split_train = int(ratio[0] * len(files))\n",
    "        split_val = split_train + int(ratio[1] * len(files))\n",
    "\n",
    "        # split files \n",
    "        files_train = files[:split_train]\n",
    "        files_val = files[split_train:split_val] \n",
    "        files_test = files[split_val:]\n",
    "        files_type = [(files_train, \"train\"), (files_val, \"val\"), (files_test, \"test\")]\n",
    "\n",
    "        # copy files into output directory\n",
    "        for (files, folder_type) in files_type:\n",
    "            full_path = os.path.join(output_dir, folder_type)\n",
    "            full_path = os.path.join(full_path, cell)\n",
    "            pathlib.Path(full_path).mkdir(parents=True, exist_ok=True)\n",
    "            for f in files:\n",
    "                shutil.copy2(f, full_path)"
   ]
  },
  {
   "cell_type": "code",
   "execution_count": 4,
   "id": "affected-divorce",
   "metadata": {},
   "outputs": [],
   "source": [
    "def split_folder_2(data_dir, output_dir, ratio):\n",
    "    # for each cell \n",
    "    for cell in classes:\n",
    "        cell_path = os.path.join(data_dir, cell)\n",
    "        files = os.listdir(cell_path)\n",
    "        files = [os.path.join(cell_path, f) for f in files if f.endswith('.BMP')]\n",
    "\n",
    "        # Split the images in 'train_signs' into 80% train and 20% val\n",
    "        # Make sure to always shuffle with a fixed seed so that the split is reproducible\n",
    "        random.seed(230)\n",
    "        files.sort()\n",
    "        random.shuffle(files)\n",
    "\n",
    "        # ratio for train, validation and test\n",
    "        split_train = int(ratio[0] * len(files))\n",
    "        #split_val = split_train + int(ratio[1] * len(files))\n",
    "        split_test = split_train\n",
    "\n",
    "        # split files \n",
    "        files_train = files[:split_train]\n",
    "        #files_val = files[split_train:split_val] \n",
    "        files_test = files[split_test:]\n",
    "        files_type = [(files_train, \"train\"), (files_test, \"test\")]\n",
    "\n",
    "        # copy files into output directory\n",
    "        for (files, folder_type) in files_type:\n",
    "            full_path = os.path.join(output_dir, folder_type)\n",
    "            full_path = os.path.join(full_path, cell)\n",
    "            pathlib.Path(full_path).mkdir(parents=True, exist_ok=True)\n",
    "            for f in files:\n",
    "                shutil.copy2(f, full_path)"
   ]
  },
  {
   "cell_type": "code",
   "execution_count": 5,
   "id": "headed-kansas",
   "metadata": {},
   "outputs": [],
   "source": [
    "split_folder_2(data_dir, output_dir, ratio)"
   ]
  },
  {
   "cell_type": "code",
   "execution_count": null,
   "id": "eleven-absorption",
   "metadata": {},
   "outputs": [],
   "source": []
  }
 ],
 "metadata": {
  "kernelspec": {
   "display_name": "Python 3",
   "language": "python",
   "name": "python3"
  },
  "language_info": {
   "codemirror_mode": {
    "name": "ipython",
    "version": 3
   },
   "file_extension": ".py",
   "mimetype": "text/x-python",
   "name": "python",
   "nbconvert_exporter": "python",
   "pygments_lexer": "ipython3",
   "version": "3.9.1"
  }
 },
 "nbformat": 4,
 "nbformat_minor": 5
}
