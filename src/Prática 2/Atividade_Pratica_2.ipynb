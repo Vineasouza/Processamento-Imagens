{
 "cells": [
  {
   "cell_type": "markdown",
   "id": "passive-girlfriend",
   "metadata": {},
   "source": [
    "# ATIVIDADE PRÁTICA 2 - IF69P - Processamento de Imagens - C81\n",
    "## Vinicius Augusto de Souza - 1997530"
   ]
  },
  {
   "cell_type": "markdown",
   "id": "productive-columbus",
   "metadata": {},
   "source": [
    "-------------------------------------------------------------------------------------------------------------------------------"
   ]
  },
  {
   "cell_type": "markdown",
   "id": "hundred-distinction",
   "metadata": {},
   "source": [
    "##  ---*--- Especificação do Problema ---*---"
   ]
  },
  {
   "cell_type": "markdown",
   "id": "white-accident",
   "metadata": {},
   "source": [
    "## Escreva um programa para aplicar as seguintes operações:"
   ]
  },
  {
   "cell_type": "markdown",
   "id": "seeing-letter",
   "metadata": {},
   "source": [
    "#### Observação: Para todas as operações de filtragem o usuário pode estipular o tamanho da máscara desejada (e.g. 3X3, 5x5, etc)"
   ]
  },
  {
   "cell_type": "markdown",
   "id": "sticky-alignment",
   "metadata": {},
   "source": [
    "#### Imports"
   ]
  },
  {
   "cell_type": "code",
   "execution_count": 5,
   "id": "soviet-embassy",
   "metadata": {},
   "outputs": [],
   "source": [
    "import cv2\n",
    "import numpy as np\n",
    "from matplotlib import pyplot as plt\n",
    "%matplotlib inline\n",
    "from IPython.display import Image, display, Math, Latex"
   ]
  },
  {
   "cell_type": "markdown",
   "id": "julian-poultry",
   "metadata": {},
   "source": [
    "#### Função para plotar o histograma"
   ]
  },
  {
   "cell_type": "code",
   "execution_count": 2,
   "id": "horizontal-experiment",
   "metadata": {},
   "outputs": [],
   "source": [
    "# Função para plotar o histograma\n",
    "def hist_plot(img):\n",
    "      \n",
    "    # lista vazia para armazenar a contagem de cada valor de intensidade\n",
    "    contador_intensidade =[] \n",
    "      \n",
    "    # lista vazia para armazenar o valor de intensidade\n",
    "    valor_intensidade = []\n",
    "      \n",
    "     # percorrendo cada valor de intensidade\n",
    "    for k in range(0, 256):\n",
    "        valor_intensidade.append(k)\n",
    "        contador_intensidade_1 = 0\n",
    "        # percorrendo cada pixel da imagem \n",
    "        for i in range(rows_d):\n",
    "            for j in range(cols_d):\n",
    "                if img[i, j]== k:\n",
    "                    contador_intensidade_1+= 1\n",
    "        contador_intensidade.append(contador_intensidade_1)\n",
    "          \n",
    "    return (valor_intensidade, contador_intensidade)"
   ]
  },
  {
   "cell_type": "markdown",
   "id": "norman-arrest",
   "metadata": {},
   "source": [
    "### a) Realizar a equalização do histograma;"
   ]
  },
  {
   "cell_type": "code",
   "execution_count": 15,
   "id": "tender-revolution",
   "metadata": {},
   "outputs": [
    {
     "data": {
      "text/latex": [
       "$\\displaystyle g_k = T(f_k) = \\sum_{i=0}^{k} P_f (f_i) = \\sum_{i=0}^{k} {\\frac{n_i}{n}} , k=0,1...L-1$"
      ],
      "text/plain": [
       "<IPython.core.display.Math object>"
      ]
     },
     "metadata": {},
     "output_type": "display_data"
    }
   ],
   "source": [
    "# formula to calculate cumulation sum\n",
    "display(Math(r'g_k = T(f_k) = \\sum_{i=0}^{k} P_f (f_i) = \\sum_{i=0}^{k} {\\frac{n_i}{n}} , k=0,1...L-1'))"
   ]
  },
  {
   "cell_type": "code",
   "execution_count": 19,
   "id": "previous-adoption",
   "metadata": {},
   "outputs": [
    {
     "data": {
      "text/plain": [
       "Text(0.5, 1.0, 'Histogram of the original image')"
      ]
     },
     "execution_count": 19,
     "metadata": {},
     "output_type": "execute_result"
    },
    {
     "data": {
      "image/png": "[encoded data removed]",
      "text/plain": [
       "<Figure size 432x288 with 1 Axes>"
      ]
     },
     "metadata": {
      "needs_background": "light"
     },
     "output_type": "display_data"
    }
   ],
   "source": [
    "img_einstein_a = cv2.imread('einstein.jpg',cv2.IMREAD_GRAYSCALE)\n",
    "rows_d, cols_d = img_einstein_a.shape\n",
    "valor_intensidade_1, contador_intensidade_1 = hist_plot(img_einstein_a)\n",
    "plt.stem(valor_intensidade_1, contador_intensidade_1)\n",
    "plt.xlabel('intensity value')\n",
    "plt.ylabel('number of pixels')\n",
    "plt.title('Histogram of the original image')"
   ]
  },
  {
   "cell_type": "code",
   "execution_count": null,
   "id": "greek-studio",
   "metadata": {},
   "outputs": [],
   "source": []
  },
  {
   "cell_type": "markdown",
   "id": "round-swimming",
   "metadata": {},
   "source": [
    "### b)  Aplicar filtro da média"
   ]
  },
  {
   "cell_type": "code",
   "execution_count": null,
   "id": "hollywood-tourist",
   "metadata": {},
   "outputs": [],
   "source": []
  },
  {
   "cell_type": "markdown",
   "id": "capable-dealer",
   "metadata": {},
   "source": [
    "### c) Aplicar filtro da mediana"
   ]
  },
  {
   "cell_type": "code",
   "execution_count": null,
   "id": "affected-pharmacology",
   "metadata": {},
   "outputs": [],
   "source": []
  },
  {
   "cell_type": "markdown",
   "id": "critical-discussion",
   "metadata": {},
   "source": [
    "### d) Aplicar filtro gaussiano"
   ]
  },
  {
   "cell_type": "code",
   "execution_count": null,
   "id": "fitting-birmingham",
   "metadata": {},
   "outputs": [],
   "source": []
  }
 ],
 "metadata": {
  "kernelspec": {
   "display_name": "Python 3",
   "language": "python",
   "name": "python3"
  },
  "language_info": {
   "codemirror_mode": {
    "name": "ipython",
    "version": 3
   },
   "file_extension": ".py",
   "mimetype": "text/x-python",
   "name": "python",
   "nbconvert_exporter": "python",
   "pygments_lexer": "ipython3",
   "version": "3.9.1"
  }
 },
 "nbformat": 4,
 "nbformat_minor": 5
}
